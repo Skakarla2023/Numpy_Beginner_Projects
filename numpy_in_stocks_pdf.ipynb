{
  "nbformat": 4,
  "nbformat_minor": 0,
  "metadata": {
    "colab": {
      "provenance": [],
      "authorship_tag": "ABX9TyNTGxkXar9YDAG73ot7NoZ+",
      "include_colab_link": true
    },
    "kernelspec": {
      "name": "python3",
      "display_name": "Python 3"
    },
    "language_info": {
      "name": "python"
    }
  },
  "cells": [
    {
      "cell_type": "markdown",
      "metadata": {
        "id": "view-in-github",
        "colab_type": "text"
      },
      "source": [
        "<a href=\"https://colab.research.google.com/github/Skakarla2023/Numpy_Beginner_Projects/blob/main/numpy_in_stocks_pdf.ipynb\" target=\"_parent\"><img src=\"https://colab.research.google.com/assets/colab-badge.svg\" alt=\"Open In Colab\"/></a>"
      ]
    },
    {
      "cell_type": "markdown",
      "source": [
        "# **Stock-Market Analysis in numpy**"
      ],
      "metadata": {
        "id": "3CB25cff2NCn"
      }
    },
    {
      "cell_type": "code",
      "execution_count": null,
      "metadata": {
        "id": "QTPmH4wYv9Ow"
      },
      "outputs": [],
      "source": [
        "import numpy as np"
      ]
    },
    {
      "cell_type": "code",
      "source": [
        "stock_names=['A','B','C']"
      ],
      "metadata": {
        "id": "iPlzHJH6wzr6"
      },
      "execution_count": null,
      "outputs": []
    },
    {
      "cell_type": "code",
      "source": [
        "import numpy as np\n",
        "prices = np.array([\n",
        "    [120, 230, 340],\n",
        "    [125, 235, 330],\n",
        "    [123, 240, 335],\n",
        "    [128, 238, 342],\n",
        "    [127, 243, 350],\n",
        "    [130, 248, 345],\n",
        "    [132, 250, 355]\n",
        "])"
      ],
      "metadata": {
        "id": "QcB4YLmtxmCc"
      },
      "execution_count": null,
      "outputs": []
    },
    {
      "cell_type": "code",
      "source": [
        "avg_prices=np.mean(prices,axis=0)\n",
        "avg_prices"
      ],
      "metadata": {
        "colab": {
          "base_uri": "https://localhost:8080/"
        },
        "id": "21RiPmnq2sIY",
        "outputId": "56410947-0a80-4abf-fe07-3ba9d804bb3e"
      },
      "execution_count": null,
      "outputs": [
        {
          "output_type": "execute_result",
          "data": {
            "text/plain": [
              "array([126.42857143, 240.57142857, 342.42857143])"
            ]
          },
          "metadata": {},
          "execution_count": 28
        }
      ]
    },
    {
      "cell_type": "code",
      "source": [
        "daily_returns = (prices[1:]-prices[:-1])/prices[:-1] * 100\n",
        "daily_returns"
      ],
      "metadata": {
        "colab": {
          "base_uri": "https://localhost:8080/"
        },
        "id": "9xvsGphU296r",
        "outputId": "4641f915-50f7-4bfd-dda0-b6de4b8bdc49"
      },
      "execution_count": null,
      "outputs": [
        {
          "output_type": "execute_result",
          "data": {
            "text/plain": [
              "array([[ 4.16666667,  2.17391304, -2.94117647],\n",
              "       [-1.6       ,  2.12765957,  1.51515152],\n",
              "       [ 4.06504065, -0.83333333,  2.08955224],\n",
              "       [-0.78125   ,  2.10084034,  2.33918129],\n",
              "       [ 2.36220472,  2.05761317, -1.42857143],\n",
              "       [ 1.53846154,  0.80645161,  2.89855072]])"
            ]
          },
          "metadata": {},
          "execution_count": 29
        }
      ]
    },
    {
      "cell_type": "code",
      "source": [
        "std_deviation=np.std(prices,axis=0)\n",
        "std_deviation"
      ],
      "metadata": {
        "colab": {
          "base_uri": "https://localhost:8080/"
        },
        "id": "VYpctIgV3uv6",
        "outputId": "2994488e-6bd4-401e-d978-fa3a43ad5943"
      },
      "execution_count": null,
      "outputs": [
        {
          "output_type": "execute_result",
          "data": {
            "text/plain": [
              "array([3.81190402, 6.54341857, 7.90763   ])"
            ]
          },
          "metadata": {},
          "execution_count": 30
        }
      ]
    },
    {
      "cell_type": "code",
      "source": [
        "for i,name in enumerate(stock_names):\n",
        "  print(f\"\\n{name} Analysis:\")\n",
        "  print(f\"Average Price:₹{avg_prices[i]:.3f}\")\n",
        "  print(f\"Standard Deviations:{std_deviation[i]:.3f}\")"
      ],
      "metadata": {
        "colab": {
          "base_uri": "https://localhost:8080/"
        },
        "id": "L680ICwo3uth",
        "outputId": "2f65b002-f272-4690-98b2-013422e73085"
      },
      "execution_count": null,
      "outputs": [
        {
          "output_type": "stream",
          "name": "stdout",
          "text": [
            "\n",
            "A Analysis:\n",
            "Average Price:₹126.429\n",
            "Standard Deviations:3.812\n",
            "\n",
            "B Analysis:\n",
            "Average Price:₹240.571\n",
            "Standard Deviations:6.543\n",
            "\n",
            "C Analysis:\n",
            "Average Price:₹342.429\n",
            "Standard Deviations:7.908\n"
          ]
        }
      ]
    },
    {
      "cell_type": "markdown",
      "source": [
        "# **Daily Prices for 3 Stocks**"
      ],
      "metadata": {
        "id": "WrKr5IJpi2Zv"
      }
    },
    {
      "cell_type": "markdown",
      "source": [
        "### ✅ 1.1 Generate Daily Price Data"
      ],
      "metadata": {
        "id": "-liCCq_TjAH1"
      }
    },
    {
      "cell_type": "code",
      "source": [
        "np.random.seed(42)\n",
        "prices = np.random.randint(100,300,size=(7,3))\n",
        "stock_names=['Stock A','Stock B','Stock C']\n",
        "days = [f'Day {i+1}' for i in range(7)]"
      ],
      "metadata": {
        "id": "kM88UWib3urS"
      },
      "execution_count": null,
      "outputs": []
    },
    {
      "cell_type": "code",
      "source": [
        "print(\"📊 Daily Stock Prices:\")\n",
        "for i, day in enumerate(days):\n",
        "  print(f\"{day}: {dict(zip(stock_names, prices[i]))}\")"
      ],
      "metadata": {
        "id": "8idpV2vX3upI",
        "colab": {
          "base_uri": "https://localhost:8080/"
        },
        "outputId": "7b494829-5f48-47db-ab01-67cf4bf9b4ff"
      },
      "execution_count": null,
      "outputs": [
        {
          "output_type": "stream",
          "name": "stdout",
          "text": [
            "📊 Daily Stock Prices:\n",
            "Day 1: {'Stock A': np.int64(202), 'Stock B': np.int64(279), 'Stock C': np.int64(192)}\n",
            "Day 2: {'Stock A': np.int64(114), 'Stock B': np.int64(206), 'Stock C': np.int64(171)}\n",
            "Day 3: {'Stock A': np.int64(288), 'Stock B': np.int64(120), 'Stock C': np.int64(202)}\n",
            "Day 4: {'Stock A': np.int64(221), 'Stock B': np.int64(174), 'Stock C': np.int64(187)}\n",
            "Day 5: {'Stock A': np.int64(216), 'Stock B': np.int64(199), 'Stock C': np.int64(203)}\n",
            "Day 6: {'Stock A': np.int64(251), 'Stock B': np.int64(230), 'Stock C': np.int64(249)}\n",
            "Day 7: {'Stock A': np.int64(152), 'Stock B': np.int64(101), 'Stock C': np.int64(187)}\n"
          ]
        }
      ]
    },
    {
      "cell_type": "markdown",
      "source": [
        "### ✅ 1.2 Daily Returns (% Change from Previous Day)"
      ],
      "metadata": {
        "id": "kJPl59WMlUMH"
      }
    },
    {
      "cell_type": "code",
      "source": [
        "# Daily return=((today-yesterday)/yesterday)*100\n",
        "daily_returns=((prices[1:]-prices[:-1])/prices[:-1])*100\n",
        "print(\"\\n📈 Daily Returns(%):\")\n",
        "for i,day in enumerate(days[1:],start=1):\n",
        "  returns = dict(zip(stock_names,daily_returns[i-1].round(2)))\n",
        "  print(f\"{day} return: {returns}\")"
      ],
      "metadata": {
        "id": "wReYj_ZY3umY",
        "colab": {
          "base_uri": "https://localhost:8080/"
        },
        "outputId": "97fe2a07-f9e3-4f40-df65-6c90b00d1fc4"
      },
      "execution_count": null,
      "outputs": [
        {
          "output_type": "stream",
          "name": "stdout",
          "text": [
            "\n",
            "📈 Daily Returns(%):\n",
            "Day 2 return: {'Stock A': np.float64(-43.56), 'Stock B': np.float64(-26.16), 'Stock C': np.float64(-10.94)}\n",
            "Day 3 return: {'Stock A': np.float64(152.63), 'Stock B': np.float64(-41.75), 'Stock C': np.float64(18.13)}\n",
            "Day 4 return: {'Stock A': np.float64(-23.26), 'Stock B': np.float64(45.0), 'Stock C': np.float64(-7.43)}\n",
            "Day 5 return: {'Stock A': np.float64(-2.26), 'Stock B': np.float64(14.37), 'Stock C': np.float64(8.56)}\n",
            "Day 6 return: {'Stock A': np.float64(16.2), 'Stock B': np.float64(15.58), 'Stock C': np.float64(22.66)}\n",
            "Day 7 return: {'Stock A': np.float64(-39.44), 'Stock B': np.float64(-56.09), 'Stock C': np.float64(-24.9)}\n"
          ]
        }
      ]
    },
    {
      "cell_type": "markdown",
      "source": [
        "### ✅ 1.3 Individual Stock Weekly Analysis"
      ],
      "metadata": {
        "id": "KsRc7OuVnH4Z"
      }
    },
    {
      "cell_type": "code",
      "source": [
        "average_price = np.mean(prices,axis=0)\n",
        "max_price = np.max(prices,axis=0)\n",
        "min_price = np.min(prices,axis=0)\n",
        "standard_deviation = np.std(prices,axis=0)\n",
        "\n",
        "print(\"\\n Weekly analysis for each stock:\")\n",
        "for i,name in enumerate(stock_names):\n",
        "  print(f\"\\n{name}\")\n",
        "  print(f\" Average Price:₹{average_price[i]:.2f}\")\n",
        "  print(f\" Maximum Price:₹{max_price[i]:.2f}\")\n",
        "  print(f\" Minimum Price:₹{min_price[i]:.2f}\")\n",
        "  print(f\" Standard Deviation:₹{standard_deviation[i]:.2f}\")"
      ],
      "metadata": {
        "id": "WOu1chgU3ufL",
        "colab": {
          "base_uri": "https://localhost:8080/"
        },
        "outputId": "76117397-383f-4224-87f8-4612a580e669"
      },
      "execution_count": null,
      "outputs": [
        {
          "output_type": "stream",
          "name": "stdout",
          "text": [
            "\n",
            " Weekly analysis for each stock:\n",
            "\n",
            "Stock A\n",
            " Average Price:₹206.29\n",
            " Maximum Price:₹288.00\n",
            " Minimum Price:₹114.00\n",
            " Standard Deviation:₹54.08\n",
            "\n",
            "Stock B\n",
            " Average Price:₹187.00\n",
            " Maximum Price:₹279.00\n",
            " Minimum Price:₹101.00\n",
            " Standard Deviation:₹57.16\n",
            "\n",
            "Stock C\n",
            " Average Price:₹198.71\n",
            " Maximum Price:₹249.00\n",
            " Minimum Price:₹171.00\n",
            " Standard Deviation:₹22.82\n"
          ]
        }
      ]
    },
    {
      "cell_type": "markdown",
      "source": [
        "### ✅ 1.4 Most Gained / Lost Stock Over the Week"
      ],
      "metadata": {
        "id": "9YGDmETzpP51"
      }
    },
    {
      "cell_type": "code",
      "source": [
        "overall_returns = (prices[-1] - prices[0]) / prices[0] * 100\n",
        "most_gained = np.argmax(overall_returns)\n",
        "# argmax returns the maximum value in an array\n",
        "most_lost = np.argmin(overall_returns)\n",
        "# argmin returns the minimum value in an array\n",
        "print(f\"\\n Performance Summary:\")\n",
        "print(f\" Most Gained: {stock_names[most_gained]} ({overall_returns[most_gained]})\")\n",
        "print(f\" Most Lost : {stock_names[most_lost]} ({overall_returns[most_lost]})\")"
      ],
      "metadata": {
        "id": "OwrKwKII3uc6",
        "colab": {
          "base_uri": "https://localhost:8080/"
        },
        "outputId": "21b286af-9b9b-4e14-86f5-b6c9720d477e"
      },
      "execution_count": null,
      "outputs": [
        {
          "output_type": "stream",
          "name": "stdout",
          "text": [
            "\n",
            " Performance Summary:\n",
            " Most Gained: Stock C (-2.604166666666667)\n",
            " Most Lost : Stock B (-63.799283154121866)\n"
          ]
        }
      ]
    },
    {
      "cell_type": "markdown",
      "source": [
        "# **PART 2 Hourly prices(7 days x 6 hours x 3 stocks)**"
      ],
      "metadata": {
        "id": "vD2YS-Godt3H"
      }
    },
    {
      "cell_type": "markdown",
      "source": [
        "### ✅ 2.1 Generate Hourly Price List"
      ],
      "metadata": {
        "id": "27vGUv3vd6JX"
      }
    },
    {
      "cell_type": "code",
      "source": [
        "import numpy as np"
      ],
      "metadata": {
        "id": "ogVj8nqsec2w"
      },
      "execution_count": null,
      "outputs": []
    },
    {
      "cell_type": "code",
      "source": [
        "# 7 days x 6 hours(9AM-2PM) x 3 stocks\n",
        "prices_hourly = np.random.randint(100,300,(7,6,3))\n",
        "hours = [\"9AM\",\"10AM\",\"11AM\",\"12PM\",\"1PM\",\"2PM\"]\n",
        "\n",
        "print(\"\\nDay 1 Hourly Prices:\\n\")\n",
        "for i,hour in enumerate(hours):\n",
        "  hourly_prices_for_display = [int(price) for price in prices_hourly[0][i]]\n",
        "  print(f\"{hour} :{dict(zip(stock_names,hourly_prices_for_display))}\")"
      ],
      "metadata": {
        "id": "A_f8fICD3uGv",
        "colab": {
          "base_uri": "https://localhost:8080/"
        },
        "outputId": "53a8a44b-6f9f-4f36-dff0-add8a0ef52ed"
      },
      "execution_count": null,
      "outputs": [
        {
          "output_type": "stream",
          "name": "stdout",
          "text": [
            "\n",
            "Day 1 Hourly Prices:\n",
            "\n",
            "9AM :{'Stock A': 200, 'Stock B': 122, 'Stock C': 109}\n",
            "10AM :{'Stock A': 168, 'Stock B': 199, 'Stock C': 133}\n",
            "11AM :{'Stock A': 279, 'Stock B': 237, 'Stock C': 246}\n",
            "12PM :{'Stock A': 285, 'Stock B': 195, 'Stock C': 100}\n",
            "1PM :{'Stock A': 168, 'Stock B': 103, 'Stock C': 115}\n",
            "2PM :{'Stock A': 123, 'Stock B': 179, 'Stock C': 101}\n"
          ]
        }
      ]
    },
    {
      "cell_type": "markdown",
      "source": [
        "### Daily Average Price(from Hourly data)"
      ],
      "metadata": {
        "id": "gB7X7QHQkrFq"
      }
    },
    {
      "cell_type": "code",
      "source": [
        "daily_avg_hourly = np.mean(prices_hourly,axis=1)\n",
        "# When axis=0, the average is calculated down the rows for each column\n",
        "# When axis=1, the average is calculated across the columns for each row\n",
        "\n",
        "print(f\"\\n Daily averages from hourly data:\")\n",
        "for i,day in enumerate(days):\n",
        "  avg_daily_hourly=[int(p) for p in daily_avg_hourly[i]]\n",
        "  print(f\"{day}: {dict(zip(stock_names,avg_daily_hourly))}\")"
      ],
      "metadata": {
        "colab": {
          "base_uri": "https://localhost:8080/"
        },
        "id": "HBc4CoWTeQzy",
        "outputId": "375939a4-7c2c-4cd2-933f-8e41055ee106"
      },
      "execution_count": null,
      "outputs": [
        {
          "output_type": "stream",
          "name": "stdout",
          "text": [
            "\n",
            " Daily averages from hourly data:\n",
            "Day 1: {'Stock A': 203, 'Stock B': 172, 'Stock C': 134}\n",
            "Day 2: {'Stock A': 239, 'Stock B': 228, 'Stock C': 206}\n",
            "Day 3: {'Stock A': 198, 'Stock B': 154, 'Stock C': 193}\n",
            "Day 4: {'Stock A': 245, 'Stock B': 202, 'Stock C': 229}\n",
            "Day 5: {'Stock A': 170, 'Stock B': 184, 'Stock C': 194}\n",
            "Day 6: {'Stock A': 231, 'Stock B': 171, 'Stock C': 224}\n",
            "Day 7: {'Stock A': 208, 'Stock B': 235, 'Stock C': 191}\n"
          ]
        }
      ]
    },
    {
      "cell_type": "markdown",
      "source": [
        "### Hourly Average across all 7 Days"
      ],
      "metadata": {
        "id": "APBpuMJGs54r"
      }
    },
    {
      "cell_type": "code",
      "source": [],
      "metadata": {
        "id": "VNiOWCtxs-Vo"
      },
      "execution_count": null,
      "outputs": []
    }
  ]
}