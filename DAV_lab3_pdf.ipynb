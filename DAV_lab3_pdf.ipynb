{
  "nbformat": 4,
  "nbformat_minor": 0,
  "metadata": {
    "colab": {
      "provenance": [],
      "authorship_tag": "ABX9TyNuk5S3X8HCy8q+eEP5slpv",
      "include_colab_link": true
    },
    "kernelspec": {
      "name": "python3",
      "display_name": "Python 3"
    },
    "language_info": {
      "name": "python"
    }
  },
  "cells": [
    {
      "cell_type": "markdown",
      "metadata": {
        "id": "view-in-github",
        "colab_type": "text"
      },
      "source": [
        "<a href=\"https://colab.research.google.com/github/Skakarla2023/Numpy_Beginner_Projects/blob/main/DAV_lab3_pdf.ipynb\" target=\"_parent\"><img src=\"https://colab.research.google.com/assets/colab-badge.svg\" alt=\"Open In Colab\"/></a>"
      ]
    },
    {
      "cell_type": "markdown",
      "source": [
        "# **Health Analysis using Numpy**"
      ],
      "metadata": {
        "id": "VehASxwdpfEy"
      }
    },
    {
      "cell_type": "markdown",
      "source": [
        "### **Data** : Glucose, Systolic BP, Diastolic BP, Cholestrol, BMI"
      ],
      "metadata": {
        "id": "UpuhZp81sp1V"
      }
    },
    {
      "cell_type": "code",
      "source": [
        "import numpy as np"
      ],
      "metadata": {
        "id": "FKHT-kjlsnwk"
      },
      "execution_count": 2,
      "outputs": []
    },
    {
      "cell_type": "code",
      "execution_count": 3,
      "metadata": {
        "id": "JUwemooWpZm1",
        "colab": {
          "base_uri": "https://localhost:8080/"
        },
        "outputId": "8263d549-f5c4-4f9f-8a22-c6831a42f061"
      },
      "outputs": [
        {
          "output_type": "stream",
          "name": "stdout",
          "text": [
            "\n",
            "Average Values:\n",
            "\n",
            "Glucose:128.00\n",
            "Systolic_BP:129.00\n",
            "Diastolic_BP:85.00\n",
            "Cholestrol:208.00\n",
            "BMI:27.36\n",
            "Patient Assessments:\n",
            "\n",
            "Patient 1:\n",
            "Person is healthy\n",
            "\n",
            "Patient 2:\n",
            "High Blood sugar\n",
            "High Blood pressure\n",
            "\n",
            "Patient 3:\n",
            "Person is healthy\n",
            "\n",
            "Patient 4:\n",
            "High Blood sugar\n",
            "High Blood pressure\n",
            "High BMI\n",
            "\n",
            "Patient 5:\n",
            "Person is healthy\n"
          ]
        }
      ],
      "source": [
        "data = np.array([\n",
        "    [110, 120, 80, 190, 24.5],\n",
        "    [145, 135, 85, 220, 29.1],\n",
        "    [95, 115, 75, 180, 22.0],\n",
        "    [160, 145, 95, 240, 33.4],\n",
        "    [130, 130, 90, 210, 27.8]\n",
        "])\n",
        "\n",
        "columns = [\"Glucose\", \"Systolic_BP\", \"Diastolic_BP\", \"Cholestrol\", \"BMI\"]\n",
        "patients = [\"Patient 1\", \"Patient 2\", \"Patient 3\", \"Patient 4\",\"Patient 5\"]\n",
        "\n",
        "print(f\"\\nAverage Values:\\n\")\n",
        "for i,col in enumerate(columns):\n",
        "  print(f\"{col}:{np.mean(data[:,i]):.2f}\")\n",
        "\n",
        "high_sugar = data[:,0]>140\n",
        "high_bp=(data[:,1]>130)|(data[:,2]>90)\n",
        "high_cholestrol=data[:,3]>300\n",
        "high_BMI=data[:,4]>30\n",
        "\n",
        "print(\"Patient Assessments:\")\n",
        "for i in range(len(data)):\n",
        "\n",
        "  print(f\"\\n{patients[i]}:\")\n",
        "  if high_sugar[i]:\n",
        "    print(\"High Blood sugar\")\n",
        "  if high_bp[i]:\n",
        "    print(\"High Blood pressure\")\n",
        "  if high_cholestrol[i]:\n",
        "    print(\"High cholestrol\")\n",
        "  if high_BMI[i]:\n",
        "    print(\"High BMI\")\n",
        "  if not (high_sugar[i] or high_bp[i] or high_cholestrol[i] or high_BMI[i]):\n",
        "    print(\"Person is healthy\")"
      ]
    },
    {
      "cell_type": "code",
      "source": [
        "import numpy as np\n",
        "np.random.seed(42)\n",
        "patients = [\"patient 1\", \"patient 2, 'patient 3\"]\n",
        "days = 7\n",
        "slots_per_day = 6\n",
        "\n",
        "heart_rate = np.random.randint(60, 100, (3, 7, 6))\n",
        "temperature = np.random.normal(36.5,0.5,(3, 6, 7))\n",
        "systolic_bp = np.random.randint(100,140,(3, 6, 7))\n",
        "diastolic_bp = np.random.randint(60, 90, (3, 6, 7))\n",
        "sugar_level = np.random.randint(70, 180, (3, 6, 7))"
      ],
      "metadata": {
        "id": "BWDi91ipszGm"
      },
      "execution_count": 4,
      "outputs": []
    },
    {
      "cell_type": "markdown",
      "source": [
        "1. Average stats for each patient(weekly)"
      ],
      "metadata": {
        "id": "0_4rxhBVxrgB"
      }
    },
    {
      "cell_type": "code",
      "source": [
        "def average_weekly_stats(parameter, name):\n",
        "  for i,patient in enumerate(patients):\n",
        "    avg = np.mean(parameter[i])\n",
        "    print(f\"{patient}:-Avg{name}:{avg:.2f}\")\n",
        "\n",
        "\n",
        "average_weekly_stats(heart_rate, \"Heart Rate\")\n",
        "average_weekly_stats(temperature, \"Temperature\")\n",
        "average_weekly_stats(systolic_bp, \"Systolic BP\")\n",
        "average_weekly_stats(diastolic_bp, \"Diastolic BP\")\n",
        "average_weekly_stats(sugar_level, \"Sugar Level\")"
      ],
      "metadata": {
        "colab": {
          "base_uri": "https://localhost:8080/"
        },
        "id": "CC8OivFRs2Rn",
        "outputId": "f1ae79bf-a0e8-4dfd-e14a-ae5a9b1589cd"
      },
      "execution_count": 5,
      "outputs": [
        {
          "output_type": "stream",
          "name": "stdout",
          "text": [
            "patient 1:-AvgHeart Rate:79.74\n",
            "patient 2, 'patient 3:-AvgHeart Rate:77.33\n",
            "patient 1:-AvgTemperature:36.52\n",
            "patient 2, 'patient 3:-AvgTemperature:36.53\n",
            "patient 1:-AvgSystolic BP:120.52\n",
            "patient 2, 'patient 3:-AvgSystolic BP:120.31\n",
            "patient 1:-AvgDiastolic BP:73.29\n",
            "patient 2, 'patient 3:-AvgDiastolic BP:75.38\n",
            "patient 1:-AvgSugar Level:118.90\n",
            "patient 2, 'patient 3:-AvgSugar Level:122.14\n"
          ]
        }
      ]
    }
  ]
}